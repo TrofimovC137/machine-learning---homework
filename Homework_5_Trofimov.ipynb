{
 "cells": [
  {
   "cell_type": "markdown",
   "metadata": {},
   "source": [
    "# Задание №1\n",
    "### Реализовать модель классификации на основе бэггинга (BaggingClassifier). Определить оптимальное количество базовых моделей. Сравнить полученные результаты с моделью бустинга (Ada-, Gradient- или XGBoost).\n",
    "### Для начала реализуем модель бустинга"
   ]
  },
  {
   "cell_type": "code",
   "execution_count": 152,
   "metadata": {},
   "outputs": [],
   "source": [
    "import pandas as pd\n",
    "import numpy as np\n",
    "\n",
    "from sklearn.ensemble import AdaBoostClassifier\n",
    "from sklearn.ensemble import BaggingClassifier\n",
    "from sklearn.tree import DecisionTreeClassifier\n",
    "from sklearn.model_selection import train_test_split\n",
    "from sklearn.metrics import precision_score, recall_score, accuracy_score\n",
    "from sklearn.model_selection import GridSearchCV"
   ]
  },
  {
   "cell_type": "code",
   "execution_count": 2,
   "metadata": {},
   "outputs": [
    {
     "data": {
      "text/html": [
       "<div>\n",
       "<style scoped>\n",
       "    .dataframe tbody tr th:only-of-type {\n",
       "        vertical-align: middle;\n",
       "    }\n",
       "\n",
       "    .dataframe tbody tr th {\n",
       "        vertical-align: top;\n",
       "    }\n",
       "\n",
       "    .dataframe thead th {\n",
       "        text-align: right;\n",
       "    }\n",
       "</style>\n",
       "<table border=\"1\" class=\"dataframe\">\n",
       "  <thead>\n",
       "    <tr style=\"text-align: right;\">\n",
       "      <th></th>\n",
       "      <th>lettr</th>\n",
       "      <th>x-box</th>\n",
       "      <th>y-box</th>\n",
       "      <th>width</th>\n",
       "      <th>high</th>\n",
       "      <th>onpix</th>\n",
       "      <th>x-bar</th>\n",
       "      <th>y-bar</th>\n",
       "      <th>x2bar</th>\n",
       "      <th>y2bar</th>\n",
       "      <th>xybar</th>\n",
       "      <th>x2ybr</th>\n",
       "      <th>xy2br</th>\n",
       "      <th>x-ege</th>\n",
       "      <th>xegvy</th>\n",
       "      <th>y-ege</th>\n",
       "      <th>yegvx</th>\n",
       "    </tr>\n",
       "  </thead>\n",
       "  <tbody>\n",
       "    <tr>\n",
       "      <th>0</th>\n",
       "      <td>T</td>\n",
       "      <td>2</td>\n",
       "      <td>8</td>\n",
       "      <td>3</td>\n",
       "      <td>5</td>\n",
       "      <td>1</td>\n",
       "      <td>8</td>\n",
       "      <td>13</td>\n",
       "      <td>0</td>\n",
       "      <td>6</td>\n",
       "      <td>6</td>\n",
       "      <td>10</td>\n",
       "      <td>8</td>\n",
       "      <td>0</td>\n",
       "      <td>8</td>\n",
       "      <td>0</td>\n",
       "      <td>8</td>\n",
       "    </tr>\n",
       "    <tr>\n",
       "      <th>1</th>\n",
       "      <td>I</td>\n",
       "      <td>5</td>\n",
       "      <td>12</td>\n",
       "      <td>3</td>\n",
       "      <td>7</td>\n",
       "      <td>2</td>\n",
       "      <td>10</td>\n",
       "      <td>5</td>\n",
       "      <td>5</td>\n",
       "      <td>4</td>\n",
       "      <td>13</td>\n",
       "      <td>3</td>\n",
       "      <td>9</td>\n",
       "      <td>2</td>\n",
       "      <td>8</td>\n",
       "      <td>4</td>\n",
       "      <td>10</td>\n",
       "    </tr>\n",
       "    <tr>\n",
       "      <th>2</th>\n",
       "      <td>D</td>\n",
       "      <td>4</td>\n",
       "      <td>11</td>\n",
       "      <td>6</td>\n",
       "      <td>8</td>\n",
       "      <td>6</td>\n",
       "      <td>10</td>\n",
       "      <td>6</td>\n",
       "      <td>2</td>\n",
       "      <td>6</td>\n",
       "      <td>10</td>\n",
       "      <td>3</td>\n",
       "      <td>7</td>\n",
       "      <td>3</td>\n",
       "      <td>7</td>\n",
       "      <td>3</td>\n",
       "      <td>9</td>\n",
       "    </tr>\n",
       "    <tr>\n",
       "      <th>3</th>\n",
       "      <td>N</td>\n",
       "      <td>7</td>\n",
       "      <td>11</td>\n",
       "      <td>6</td>\n",
       "      <td>6</td>\n",
       "      <td>3</td>\n",
       "      <td>5</td>\n",
       "      <td>9</td>\n",
       "      <td>4</td>\n",
       "      <td>6</td>\n",
       "      <td>4</td>\n",
       "      <td>4</td>\n",
       "      <td>10</td>\n",
       "      <td>6</td>\n",
       "      <td>10</td>\n",
       "      <td>2</td>\n",
       "      <td>8</td>\n",
       "    </tr>\n",
       "    <tr>\n",
       "      <th>4</th>\n",
       "      <td>G</td>\n",
       "      <td>2</td>\n",
       "      <td>1</td>\n",
       "      <td>3</td>\n",
       "      <td>1</td>\n",
       "      <td>1</td>\n",
       "      <td>8</td>\n",
       "      <td>6</td>\n",
       "      <td>6</td>\n",
       "      <td>6</td>\n",
       "      <td>6</td>\n",
       "      <td>5</td>\n",
       "      <td>9</td>\n",
       "      <td>1</td>\n",
       "      <td>7</td>\n",
       "      <td>5</td>\n",
       "      <td>10</td>\n",
       "    </tr>\n",
       "  </tbody>\n",
       "</table>\n",
       "</div>"
      ],
      "text/plain": [
       "  lettr  x-box  y-box  width  high  onpix  x-bar  y-bar  x2bar  y2bar  xybar  \\\n",
       "0     T      2      8      3     5      1      8     13      0      6      6   \n",
       "1     I      5     12      3     7      2     10      5      5      4     13   \n",
       "2     D      4     11      6     8      6     10      6      2      6     10   \n",
       "3     N      7     11      6     6      3      5      9      4      6      4   \n",
       "4     G      2      1      3     1      1      8      6      6      6      6   \n",
       "\n",
       "   x2ybr  xy2br  x-ege  xegvy  y-ege  yegvx  \n",
       "0     10      8      0      8      0      8  \n",
       "1      3      9      2      8      4     10  \n",
       "2      3      7      3      7      3      9  \n",
       "3      4     10      6     10      2      8  \n",
       "4      5      9      1      7      5     10  "
      ]
     },
     "execution_count": 2,
     "metadata": {},
     "output_type": "execute_result"
    }
   ],
   "source": [
    "column_names = ['lettr','x-box','y-box','width','high','onpix','x-bar',\n",
    "                'y-bar','x2bar','y2bar','xybar','x2ybr','xy2br','x-ege','xegvy','y-ege','yegvx']\n",
    "df = pd.read_csv('letter-recognition.data', sep=',', names = column_names)\n",
    "Y = df['lettr']\n",
    "X = df.drop(columns = 'lettr')\n",
    "x_train, x_test, y_train, y_test = train_test_split(X ,Y, test_size = 0.25, random_state = 1)\n",
    "df.head()"
   ]
  },
  {
   "cell_type": "code",
   "execution_count": 3,
   "metadata": {},
   "outputs": [],
   "source": [
    "ada_boost_model = AdaBoostClassifier(\n",
    "    base_estimator = DecisionTreeClassifier(),\n",
    "    n_estimators = 200,)"
   ]
  },
  {
   "cell_type": "code",
   "execution_count": 4,
   "metadata": {},
   "outputs": [],
   "source": [
    "ada_boost_model.fit(x_train, y_train)\n",
    "ABC_model_predict = ada_boost_model.predict(x_test)"
   ]
  },
  {
   "cell_type": "code",
   "execution_count": 5,
   "metadata": {},
   "outputs": [
    {
     "name": "stdout",
     "output_type": "stream",
     "text": [
      "Precision = 0.8655340664139657\n",
      "Recall = 0.865103785056714\n",
      "Accuracy = 0.8648\n"
     ]
    }
   ],
   "source": [
    "print(\"Precision =\",precision_score(y_test, ABC_model_predict, average='macro'))\n",
    "print(\"Recall =\",recall_score(y_test, ABC_model_predict, average='macro'))\n",
    "print(\"Accuracy =\",accuracy_score(y_test, ABC_model_predict))"
   ]
  },
  {
   "cell_type": "markdown",
   "metadata": {},
   "source": [
    "### Далее реализуем модель на основе бэггинга (BaggingClassifier) и определим для нее оптимальное количество базовых моделей\n",
    "#### Для начала реализуем модель с параметрами, аналогичными AdaBoostClassifier"
   ]
  },
  {
   "cell_type": "code",
   "execution_count": 6,
   "metadata": {},
   "outputs": [],
   "source": [
    "native_bagging_model = BaggingClassifier(\n",
    "    base_estimator = DecisionTreeClassifier(),\n",
    "    n_estimators = 200)"
   ]
  },
  {
   "cell_type": "code",
   "execution_count": 7,
   "metadata": {},
   "outputs": [
    {
     "data": {
      "text/plain": [
       "BaggingClassifier(base_estimator=DecisionTreeClassifier(class_weight=None,\n",
       "                                                        criterion='gini',\n",
       "                                                        max_depth=None,\n",
       "                                                        max_features=None,\n",
       "                                                        max_leaf_nodes=None,\n",
       "                                                        min_impurity_decrease=0.0,\n",
       "                                                        min_impurity_split=None,\n",
       "                                                        min_samples_leaf=1,\n",
       "                                                        min_samples_split=2,\n",
       "                                                        min_weight_fraction_leaf=0.0,\n",
       "                                                        presort=False,\n",
       "                                                        random_state=None,\n",
       "                                                        splitter='best'),\n",
       "                  bootstrap=True, bootstrap_features=False, max_features=1.0,\n",
       "                  max_samples=1.0, n_estimators=200, n_jobs=None,\n",
       "                  oob_score=False, random_state=None, verbose=0,\n",
       "                  warm_start=False)"
      ]
     },
     "execution_count": 7,
     "metadata": {},
     "output_type": "execute_result"
    }
   ],
   "source": [
    "native_bagging_model.fit(x_train, y_train)"
   ]
  },
  {
   "cell_type": "code",
   "execution_count": 8,
   "metadata": {},
   "outputs": [
    {
     "name": "stdout",
     "output_type": "stream",
     "text": [
      "Precision = 0.9415551618010459\n",
      "Recall = 0.9413900212167738\n",
      "Accuracy = 0.9416\n"
     ]
    }
   ],
   "source": [
    "native_bagging_model_predict = native_bagging_model.predict(x_test)\n",
    "print(\"Precision =\",precision_score(y_test, native_bagging_model_predict, average='macro'))\n",
    "print(\"Recall =\",recall_score(y_test, native_bagging_model_predict, average='macro'))\n",
    "print(\"Accuracy =\",accuracy_score(y_test, native_bagging_model_predict))"
   ]
  },
  {
   "cell_type": "markdown",
   "metadata": {},
   "source": [
    "### Для параметров по умолчанию были получены результаты, превосходящие результаты AdaBoostClassifier\n",
    "### Далее попробуем подобрать оптимальны количество базовых моделей. Данную задачу решим с помощью GridSearch"
   ]
  },
  {
   "cell_type": "code",
   "execution_count": 15,
   "metadata": {},
   "outputs": [],
   "source": [
    "n_estimators = np.arange(10,310,10)\n",
    "bagging_model = BaggingClassifier(\n",
    "    base_estimator = DecisionTreeClassifier())\n",
    "grid = GridSearchCV(estimator = bagging_model,param_grid={\"n_estimators\":n_estimators}, cv = 3)"
   ]
  },
  {
   "cell_type": "code",
   "execution_count": 16,
   "metadata": {},
   "outputs": [
    {
     "data": {
      "text/plain": [
       "GridSearchCV(cv=3, error_score='raise-deprecating',\n",
       "             estimator=BaggingClassifier(base_estimator=DecisionTreeClassifier(class_weight=None,\n",
       "                                                                               criterion='gini',\n",
       "                                                                               max_depth=None,\n",
       "                                                                               max_features=None,\n",
       "                                                                               max_leaf_nodes=None,\n",
       "                                                                               min_impurity_decrease=0.0,\n",
       "                                                                               min_impurity_split=None,\n",
       "                                                                               min_samples_leaf=1,\n",
       "                                                                               min_samples_split=2,\n",
       "                                                                               min_weight_fraction_leaf=0.0,\n",
       "                                                                               presort=False,\n",
       "                                                                               random_state=N...\n",
       "                                         max_features=1.0, max_samples=1.0,\n",
       "                                         n_estimators=10, n_jobs=None,\n",
       "                                         oob_score=False, random_state=None,\n",
       "                                         verbose=0, warm_start=False),\n",
       "             iid='warn', n_jobs=None,\n",
       "             param_grid={'n_estimators': array([ 10,  20,  30,  40,  50,  60,  70,  80,  90, 100, 110, 120, 130,\n",
       "       140, 150, 160, 170, 180, 190, 200, 210, 220, 230, 240, 250, 260,\n",
       "       270, 280, 290, 300])},\n",
       "             pre_dispatch='2*n_jobs', refit=True, return_train_score=False,\n",
       "             scoring=None, verbose=0)"
      ]
     },
     "execution_count": 16,
     "metadata": {},
     "output_type": "execute_result"
    }
   ],
   "source": [
    "grid.fit(x_train,y_train)"
   ]
  },
  {
   "cell_type": "code",
   "execution_count": 17,
   "metadata": {},
   "outputs": [
    {
     "data": {
      "text/plain": [
       "BaggingClassifier(base_estimator=DecisionTreeClassifier(class_weight=None,\n",
       "                                                        criterion='gini',\n",
       "                                                        max_depth=None,\n",
       "                                                        max_features=None,\n",
       "                                                        max_leaf_nodes=None,\n",
       "                                                        min_impurity_decrease=0.0,\n",
       "                                                        min_impurity_split=None,\n",
       "                                                        min_samples_leaf=1,\n",
       "                                                        min_samples_split=2,\n",
       "                                                        min_weight_fraction_leaf=0.0,\n",
       "                                                        presort=False,\n",
       "                                                        random_state=None,\n",
       "                                                        splitter='best'),\n",
       "                  bootstrap=True, bootstrap_features=False, max_features=1.0,\n",
       "                  max_samples=1.0, n_estimators=180, n_jobs=None,\n",
       "                  oob_score=False, random_state=None, verbose=0,\n",
       "                  warm_start=False)"
      ]
     },
     "execution_count": 17,
     "metadata": {},
     "output_type": "execute_result"
    }
   ],
   "source": [
    "grid_bagging_model = grid.best_estimator_\n",
    "grid_bagging_model"
   ]
  },
  {
   "cell_type": "code",
   "execution_count": 19,
   "metadata": {},
   "outputs": [
    {
     "name": "stdout",
     "output_type": "stream",
     "text": [
      "Precision = 0.9407760750152931\n",
      "Recall = 0.9405177420367828\n",
      "Accuracy = 0.9406\n"
     ]
    }
   ],
   "source": [
    "grid_bagging_model_predict = grid_bagging_model.predict(x_test)\n",
    "print(\"Precision =\",precision_score(y_test, grid_bagging_model_predict, average='macro'))\n",
    "print(\"Recall =\",recall_score(y_test, grid_bagging_model_predict, average='macro'))\n",
    "print(\"Accuracy =\",accuracy_score(y_test, grid_bagging_model_predict))"
   ]
  },
  {
   "cell_type": "markdown",
   "metadata": {},
   "source": [
    "### По результатам работы GridSearch оптимальное количество  базовых моделей n_estimators=180, что почти совпадает с тем значением, которое бралось по умолчанию в первом примере (n_estimators=200), соответственно результат работы полученных моделей практически не отличается. "
   ]
  },
  {
   "cell_type": "markdown",
   "metadata": {},
   "source": [
    "# Задание №2\n",
    "### Для датасета breast_cancer найти наилучший алгоритм кластеризации, согласующийся с ground truth (максимизировать supervised метрики путем выбора алгоритма кластеризации и подбора его параметров)."
   ]
  },
  {
   "cell_type": "code",
   "execution_count": 27,
   "metadata": {},
   "outputs": [],
   "source": [
    "from sklearn.datasets import load_breast_cancer\n",
    "import seaborn as sns"
   ]
  },
  {
   "cell_type": "code",
   "execution_count": 21,
   "metadata": {},
   "outputs": [],
   "source": [
    "load_data = load_breast_cancer()"
   ]
  },
  {
   "cell_type": "code",
   "execution_count": 116,
   "metadata": {},
   "outputs": [
    {
     "data": {
      "text/html": [
       "<div>\n",
       "<style scoped>\n",
       "    .dataframe tbody tr th:only-of-type {\n",
       "        vertical-align: middle;\n",
       "    }\n",
       "\n",
       "    .dataframe tbody tr th {\n",
       "        vertical-align: top;\n",
       "    }\n",
       "\n",
       "    .dataframe thead th {\n",
       "        text-align: right;\n",
       "    }\n",
       "</style>\n",
       "<table border=\"1\" class=\"dataframe\">\n",
       "  <thead>\n",
       "    <tr style=\"text-align: right;\">\n",
       "      <th></th>\n",
       "      <th>mean radius</th>\n",
       "      <th>mean texture</th>\n",
       "      <th>mean perimeter</th>\n",
       "      <th>mean area</th>\n",
       "      <th>mean smoothness</th>\n",
       "      <th>mean compactness</th>\n",
       "      <th>mean concavity</th>\n",
       "      <th>mean concave points</th>\n",
       "      <th>mean symmetry</th>\n",
       "      <th>mean fractal dimension</th>\n",
       "      <th>...</th>\n",
       "      <th>worst radius</th>\n",
       "      <th>worst texture</th>\n",
       "      <th>worst perimeter</th>\n",
       "      <th>worst area</th>\n",
       "      <th>worst smoothness</th>\n",
       "      <th>worst compactness</th>\n",
       "      <th>worst concavity</th>\n",
       "      <th>worst concave points</th>\n",
       "      <th>worst symmetry</th>\n",
       "      <th>worst fractal dimension</th>\n",
       "    </tr>\n",
       "  </thead>\n",
       "  <tbody>\n",
       "    <tr>\n",
       "      <th>0</th>\n",
       "      <td>17.99</td>\n",
       "      <td>10.38</td>\n",
       "      <td>122.80</td>\n",
       "      <td>1001.0</td>\n",
       "      <td>0.11840</td>\n",
       "      <td>0.27760</td>\n",
       "      <td>0.3001</td>\n",
       "      <td>0.14710</td>\n",
       "      <td>0.2419</td>\n",
       "      <td>0.07871</td>\n",
       "      <td>...</td>\n",
       "      <td>25.38</td>\n",
       "      <td>17.33</td>\n",
       "      <td>184.60</td>\n",
       "      <td>2019.0</td>\n",
       "      <td>0.1622</td>\n",
       "      <td>0.6656</td>\n",
       "      <td>0.7119</td>\n",
       "      <td>0.2654</td>\n",
       "      <td>0.4601</td>\n",
       "      <td>0.11890</td>\n",
       "    </tr>\n",
       "    <tr>\n",
       "      <th>1</th>\n",
       "      <td>20.57</td>\n",
       "      <td>17.77</td>\n",
       "      <td>132.90</td>\n",
       "      <td>1326.0</td>\n",
       "      <td>0.08474</td>\n",
       "      <td>0.07864</td>\n",
       "      <td>0.0869</td>\n",
       "      <td>0.07017</td>\n",
       "      <td>0.1812</td>\n",
       "      <td>0.05667</td>\n",
       "      <td>...</td>\n",
       "      <td>24.99</td>\n",
       "      <td>23.41</td>\n",
       "      <td>158.80</td>\n",
       "      <td>1956.0</td>\n",
       "      <td>0.1238</td>\n",
       "      <td>0.1866</td>\n",
       "      <td>0.2416</td>\n",
       "      <td>0.1860</td>\n",
       "      <td>0.2750</td>\n",
       "      <td>0.08902</td>\n",
       "    </tr>\n",
       "    <tr>\n",
       "      <th>2</th>\n",
       "      <td>19.69</td>\n",
       "      <td>21.25</td>\n",
       "      <td>130.00</td>\n",
       "      <td>1203.0</td>\n",
       "      <td>0.10960</td>\n",
       "      <td>0.15990</td>\n",
       "      <td>0.1974</td>\n",
       "      <td>0.12790</td>\n",
       "      <td>0.2069</td>\n",
       "      <td>0.05999</td>\n",
       "      <td>...</td>\n",
       "      <td>23.57</td>\n",
       "      <td>25.53</td>\n",
       "      <td>152.50</td>\n",
       "      <td>1709.0</td>\n",
       "      <td>0.1444</td>\n",
       "      <td>0.4245</td>\n",
       "      <td>0.4504</td>\n",
       "      <td>0.2430</td>\n",
       "      <td>0.3613</td>\n",
       "      <td>0.08758</td>\n",
       "    </tr>\n",
       "    <tr>\n",
       "      <th>3</th>\n",
       "      <td>11.42</td>\n",
       "      <td>20.38</td>\n",
       "      <td>77.58</td>\n",
       "      <td>386.1</td>\n",
       "      <td>0.14250</td>\n",
       "      <td>0.28390</td>\n",
       "      <td>0.2414</td>\n",
       "      <td>0.10520</td>\n",
       "      <td>0.2597</td>\n",
       "      <td>0.09744</td>\n",
       "      <td>...</td>\n",
       "      <td>14.91</td>\n",
       "      <td>26.50</td>\n",
       "      <td>98.87</td>\n",
       "      <td>567.7</td>\n",
       "      <td>0.2098</td>\n",
       "      <td>0.8663</td>\n",
       "      <td>0.6869</td>\n",
       "      <td>0.2575</td>\n",
       "      <td>0.6638</td>\n",
       "      <td>0.17300</td>\n",
       "    </tr>\n",
       "    <tr>\n",
       "      <th>4</th>\n",
       "      <td>20.29</td>\n",
       "      <td>14.34</td>\n",
       "      <td>135.10</td>\n",
       "      <td>1297.0</td>\n",
       "      <td>0.10030</td>\n",
       "      <td>0.13280</td>\n",
       "      <td>0.1980</td>\n",
       "      <td>0.10430</td>\n",
       "      <td>0.1809</td>\n",
       "      <td>0.05883</td>\n",
       "      <td>...</td>\n",
       "      <td>22.54</td>\n",
       "      <td>16.67</td>\n",
       "      <td>152.20</td>\n",
       "      <td>1575.0</td>\n",
       "      <td>0.1374</td>\n",
       "      <td>0.2050</td>\n",
       "      <td>0.4000</td>\n",
       "      <td>0.1625</td>\n",
       "      <td>0.2364</td>\n",
       "      <td>0.07678</td>\n",
       "    </tr>\n",
       "  </tbody>\n",
       "</table>\n",
       "<p>5 rows × 30 columns</p>\n",
       "</div>"
      ],
      "text/plain": [
       "   mean radius  mean texture  mean perimeter  mean area  mean smoothness  \\\n",
       "0        17.99         10.38          122.80     1001.0          0.11840   \n",
       "1        20.57         17.77          132.90     1326.0          0.08474   \n",
       "2        19.69         21.25          130.00     1203.0          0.10960   \n",
       "3        11.42         20.38           77.58      386.1          0.14250   \n",
       "4        20.29         14.34          135.10     1297.0          0.10030   \n",
       "\n",
       "   mean compactness  mean concavity  mean concave points  mean symmetry  \\\n",
       "0           0.27760          0.3001              0.14710         0.2419   \n",
       "1           0.07864          0.0869              0.07017         0.1812   \n",
       "2           0.15990          0.1974              0.12790         0.2069   \n",
       "3           0.28390          0.2414              0.10520         0.2597   \n",
       "4           0.13280          0.1980              0.10430         0.1809   \n",
       "\n",
       "   mean fractal dimension  ...  worst radius  worst texture  worst perimeter  \\\n",
       "0                 0.07871  ...         25.38          17.33           184.60   \n",
       "1                 0.05667  ...         24.99          23.41           158.80   \n",
       "2                 0.05999  ...         23.57          25.53           152.50   \n",
       "3                 0.09744  ...         14.91          26.50            98.87   \n",
       "4                 0.05883  ...         22.54          16.67           152.20   \n",
       "\n",
       "   worst area  worst smoothness  worst compactness  worst concavity  \\\n",
       "0      2019.0            0.1622             0.6656           0.7119   \n",
       "1      1956.0            0.1238             0.1866           0.2416   \n",
       "2      1709.0            0.1444             0.4245           0.4504   \n",
       "3       567.7            0.2098             0.8663           0.6869   \n",
       "4      1575.0            0.1374             0.2050           0.4000   \n",
       "\n",
       "   worst concave points  worst symmetry  worst fractal dimension  \n",
       "0                0.2654          0.4601                  0.11890  \n",
       "1                0.1860          0.2750                  0.08902  \n",
       "2                0.2430          0.3613                  0.08758  \n",
       "3                0.2575          0.6638                  0.17300  \n",
       "4                0.1625          0.2364                  0.07678  \n",
       "\n",
       "[5 rows x 30 columns]"
      ]
     },
     "execution_count": 116,
     "metadata": {},
     "output_type": "execute_result"
    }
   ],
   "source": [
    "data = pd.DataFrame(load_data.data, columns = load_data['feature_names'])\n",
    "data.head()"
   ]
  },
  {
   "cell_type": "code",
   "execution_count": 31,
   "metadata": {},
   "outputs": [
    {
     "name": "stdout",
     "output_type": "stream",
     "text": [
      "(569, 30)\n",
      "17070\n"
     ]
    }
   ],
   "source": [
    "target = load_data.target\n",
    "print(data.shape)\n",
    "print(data.size)"
   ]
  },
  {
   "cell_type": "markdown",
   "metadata": {},
   "source": [
    "### Исходная выборка представляет из себя 569 экземпляров некотороых классов (выборка содержит 2 класса, но т.к. стоит задача кластеризации, то данная информация буде использоваться лишь для проверки результатов либо в методах, где без нее не обойтись). Каждый элемент характеризуется 30-ю параметрами (т.е. пространство многомерное). \n",
    "### Перед началом подбора алгоритма  проанализируем исходные данные, т.к. при таком количестве параметров вполне возможны их зависимости. "
   ]
  },
  {
   "cell_type": "code",
   "execution_count": 41,
   "metadata": {},
   "outputs": [
    {
     "data": {
      "text/plain": [
       "<matplotlib.axes._subplots.AxesSubplot at 0x8cdc2e8>"
      ]
     },
     "execution_count": 41,
     "metadata": {},
     "output_type": "execute_result"
    },
    {
     "data": {
      "image/png": "[encoded data removed]",
      "text/plain": [
       "<Figure size 432x288 with 2 Axes>"
      ]
     },
     "metadata": {
      "needs_background": "light"
     },
     "output_type": "display_data"
    }
   ],
   "source": [
    "corr = data.corr()\n",
    "sns.heatmap(corr)"
   ]
  },
  {
   "cell_type": "code",
   "execution_count": 55,
   "metadata": {},
   "outputs": [
    {
     "data": {
      "text/plain": [
       "21.0"
      ]
     },
     "execution_count": 55,
     "metadata": {},
     "output_type": "execute_result"
    }
   ],
   "source": [
    "corr_line = np.array(corr).reshape(corr.size)\n",
    "corr_line.sort()\n",
    "corr_line = corr_line[:-30]\n",
    "np.count_nonzero(corr_line>0.9)/2"
   ]
  },
  {
   "cell_type": "markdown",
   "metadata": {},
   "source": [
    "### Видно, что данные имеют большое число сильно скоррелированных значений. 21 столбец (исключая диагональ и повтрения (x corr y) & (y corr x)) имеют коэф.корр > 0.9. При таких данных для первичного поиска оптимального алгоритма может быть уместно понижение размерности. Т.к. сначала будет искаться наиболее предпочтительный алгоритм, что можно сделать на неполных данных. Это может снизить затраты при переборе множества возможных алгоритмов. \n",
    "#### (Понижение размерности не потребовалось. Хоть данные и содержат большое кол-во признаков, но самих элементов не так много)"
   ]
  },
  {
   "cell_type": "markdown",
   "metadata": {},
   "source": [
    "### Для оценки работы алгоритмов кластеризации используются supervised метрики (сравнение полученных в результате работы кластеров с известными классами (target))"
   ]
  },
  {
   "cell_type": "code",
   "execution_count": 23,
   "metadata": {},
   "outputs": [],
   "source": [
    "from sklearn.metrics import completeness_score\n",
    "from sklearn.metrics import homogeneity_score\n",
    "from sklearn.metrics import v_measure_score\n",
    "from sklearn.metrics import adjusted_rand_score"
   ]
  },
  {
   "cell_type": "code",
   "execution_count": 111,
   "metadata": {},
   "outputs": [],
   "source": [
    "from sklearn.cluster import KMeans\n",
    "from sklearn.cluster import AffinityPropagation\n",
    "from sklearn.cluster import MeanShift\n",
    "from sklearn.cluster import SpectralClustering\n",
    "from sklearn.cluster import AgglomerativeClustering\n",
    "from sklearn.cluster import AgglomerativeClustering\n",
    "from sklearn.cluster import DBSCAN\n",
    "from sklearn.cluster import OPTICS"
   ]
  },
  {
   "cell_type": "code",
   "execution_count": 91,
   "metadata": {},
   "outputs": [
    {
     "name": "stdout",
     "output_type": "stream",
     "text": [
      "Обучение и рассчет score для  KMeans\n",
      "Обучение и рассчет score для  AffinityPropagation\n",
      "Обучение и рассчет score для  MeanShift\n",
      "Обучение и рассчет score для  AgglomerativeClustering\n",
      "Обучение и рассчет score для  DBSCAN\n",
      "Обучение и рассчет score для  OPTICS\n"
     ]
    }
   ],
   "source": [
    "clustering_models = {\"KMeans\":KMeans(n_clusters=2),\n",
    "                     \"AffinityPropagation\":AffinityPropagation(),\n",
    "                     \"MeanShift\":MeanShift(),\n",
    "                     #\"SpectralClustering D\":SpectralClustering(n_clusters=2,assign_labels=\"discretize\"),\n",
    "                     #\"SpectralClustering KM\":SpectralClustering(n_clusters=2,assign_labels=\"kmeans\"),\n",
    "                     \"AgglomerativeClustering\":AgglomerativeClustering(n_clusters=2),\n",
    "                     \"DBSCAN\":DBSCAN(),\n",
    "                     \"OPTICS\":OPTICS(),\n",
    "                    }\n",
    "scores = {}\n",
    "for model_name in clustering_models:\n",
    "    print('Обучение и рассчет score для ',model_name)\n",
    "    model = clustering_models[model_name]\n",
    "    model.fit(data)\n",
    "    model_labels = model.labels_\n",
    "    scores[model_name] = {'completeness_score':completeness_score(model_labels, target),\n",
    "                         'homogeneity_score':homogeneity_score(model_labels, target),\n",
    "                         'v_measure_score':v_measure_score(model_labels, target),\n",
    "                         'adjusted_rand_score':adjusted_rand_score(model_labels, target)}"
   ]
  },
  {
   "cell_type": "code",
   "execution_count": 92,
   "metadata": {},
   "outputs": [
    {
     "data": {
      "text/plain": [
       "{'KMeans': {'completeness_score': 0.42229071246999117,\n",
       "  'homogeneity_score': 0.5168089972809706,\n",
       "  'v_measure_score': 0.46479332792160793,\n",
       "  'adjusted_rand_score': 0.49142453622455523},\n",
       " 'AffinityPropagation': {'completeness_score': 0.7049648438008207,\n",
       "  'homogeneity_score': 0.1690603161007228,\n",
       "  'v_measure_score': 0.27271887538406536,\n",
       "  'adjusted_rand_score': 0.08915932404167912},\n",
       " 'MeanShift': {'completeness_score': 0.5024830485311966,\n",
       "  'homogeneity_score': 0.43379588382762635,\n",
       "  'v_measure_score': 0.4656199570716239,\n",
       "  'adjusted_rand_score': 0.5528955767952657},\n",
       " 'AgglomerativeClustering': {'completeness_score': 0.26215041159208424,\n",
       "  'homogeneity_score': 0.40760091453790204,\n",
       "  'v_measure_score': 0.31908185424236946,\n",
       "  'adjusted_rand_score': 0.2872456066095377},\n",
       " 'DBSCAN': {'completeness_score': 0.0,\n",
       "  'homogeneity_score': 1.0,\n",
       "  'v_measure_score': 0.0,\n",
       "  'adjusted_rand_score': 0.0},\n",
       " 'OPTICS': {'completeness_score': 0.24062552047867916,\n",
       "  'homogeneity_score': 0.1042879542145079,\n",
       "  'v_measure_score': 0.14551094754906255,\n",
       "  'adjusted_rand_score': -0.019075067742506877}}"
      ]
     },
     "execution_count": 92,
     "metadata": {},
     "output_type": "execute_result"
    }
   ],
   "source": [
    "scores"
   ]
  },
  {
   "cell_type": "markdown",
   "metadata": {},
   "source": [
    "### Получены оценки работ алгоритмов с параметрами по умолчанию. Данный пункт служит для того, чтобы определить, какие из представленных алгоритмов в принципе как-либо кластеризуют исходную выборку, в данном пункте не стояла цель получить лучшую модель, только выбор дальнейшего алгоритма\n",
    "### Из полученных оценок можно сразу отбросить алгоритмы :OPTICS, DBSCAN(единственная 1 т.к. алгоритм определил все классы как -1) и AgglomerativeClustering.\n",
    "### Алгоритм AffinityPropagation выигрывает лишь по completeness_score, это значит, что полученные им кластеры лучше соответствуют исходным классам и в то-же время довольно низкие остальные показатели, что может говорить о том, что данный алгоритм разбил выборку на более чем 2 кластера отнеся граничные элементы как-либо отделаьно, но это требует более детального анализа\n",
    "### KMeans и MeanShift показали схожие результаты"
   ]
  },
  {
   "cell_type": "code",
   "execution_count": 93,
   "metadata": {},
   "outputs": [],
   "source": [
    "from sklearn.model_selection import GridSearchCV"
   ]
  },
  {
   "cell_type": "code",
   "execution_count": 105,
   "metadata": {},
   "outputs": [
    {
     "name": "stderr",
     "output_type": "stream",
     "text": [
      "C:\\ProgramData\\Anaconda3\\lib\\site-packages\\sklearn\\model_selection\\_search.py:813: DeprecationWarning: The default of the `iid` parameter will change from True to False in version 0.22 and will be removed in 0.24. This will change numeric results when test-set sizes are unequal.\n",
      "  DeprecationWarning)\n"
     ]
    },
    {
     "data": {
      "text/plain": [
       "GridSearchCV(cv=5, error_score='raise-deprecating',\n",
       "             estimator=KMeans(algorithm='auto', copy_x=True, init='k-means++',\n",
       "                              max_iter=300, n_clusters=2, n_init=10,\n",
       "                              n_jobs=None, precompute_distances='auto',\n",
       "                              random_state=None, tol=0.0001, verbose=0),\n",
       "             iid='warn', n_jobs=None,\n",
       "             param_grid={'init': ['k-means++', 'random'],\n",
       "                         'n_init': array([ 1,  2,  3,  4,  5,  6,  7,  8,  9, 10, 11, 12, 13, 14, 15, 16, 17,\n",
       "       18, 19, 20, 21, 22, 23, 24, 25, 26, 27, 28, 29, 30, 31, 32, 33, 34,\n",
       "       35, 36, 37, 38, 39, 40, 41, 42, 43, 44, 45, 46, 47, 48, 49]),\n",
       "                         'tol': array([1.e+00, 1.e-01, 1.e-02, 1.e-03, 1.e-04, 1.e-05, 1.e-06, 1.e-07,\n",
       "       1.e-08, 1.e-09])},\n",
       "             pre_dispatch='2*n_jobs', refit=True, return_train_score=False,\n",
       "             scoring=None, verbose=0)"
      ]
     },
     "execution_count": 105,
     "metadata": {},
     "output_type": "execute_result"
    }
   ],
   "source": [
    "init = ['k-means++', 'random']\n",
    "n_init = np.arange(1,50)\n",
    "max_iter = np.arange(300,1100,100)\n",
    "tol = np.array([1/10**i for i in range(0,10)])\n",
    "grid = GridSearchCV(estimator = KMeans(n_clusters=2),param_grid={\"init\":init,\n",
    "                                                                \"n_init\":n_init,\n",
    "                                                                \"tol\":tol}, cv = 5)\n",
    "grid.fit(data,target)"
   ]
  },
  {
   "cell_type": "code",
   "execution_count": 106,
   "metadata": {},
   "outputs": [
    {
     "data": {
      "text/plain": [
       "KMeans(algorithm='auto', copy_x=True, init='k-means++', max_iter=300,\n",
       "       n_clusters=2, n_init=3, n_jobs=None, precompute_distances='auto',\n",
       "       random_state=None, tol=1.0, verbose=0)"
      ]
     },
     "execution_count": 106,
     "metadata": {},
     "output_type": "execute_result"
    }
   ],
   "source": [
    "best_KMeans = grid.best_estimator_\n",
    "best_KMeans"
   ]
  },
  {
   "cell_type": "code",
   "execution_count": 107,
   "metadata": {},
   "outputs": [
    {
     "name": "stdout",
     "output_type": "stream",
     "text": [
      "completeness_score 0.42229071246999117\n",
      "homogeneity_score 0.5168089972809706\n",
      "v_measure_score 0.46479332792160793\n",
      "adjusted_rand_score 0.49142453622455523\n"
     ]
    }
   ],
   "source": [
    "best_KMeans_labels = best_KMeans.labels_\n",
    "print('completeness_score',completeness_score(best_KMeans_labels, target))\n",
    "print('homogeneity_score',homogeneity_score(best_KMeans_labels, target))\n",
    "print('v_measure_score',v_measure_score(best_KMeans_labels, target))\n",
    "print('adjusted_rand_score',adjusted_rand_score(best_KMeans_labels, target))"
   ]
  },
  {
   "cell_type": "markdown",
   "metadata": {},
   "source": [
    "### Результаты оптимизации для метода KMeans не дали ощутимого прироста точности"
   ]
  },
  {
   "cell_type": "code",
   "execution_count": 142,
   "metadata": {},
   "outputs": [],
   "source": [
    "def search_best_AffinityPropagation(dampings,max_iters,convergence_iters,X,y):\n",
    "    best_model = AffinityPropagation(copy = True).fit(X)\n",
    "    for damping in dampings:\n",
    "        for max_iter in max_iters:\n",
    "            for convergence_iter in convergence_iters:\n",
    "                model = AffinityPropagation(damping=damping, max_iter=max_iter,\n",
    "                                            convergence_iter = convergence_iter,copy = True).fit(X)\n",
    "                if v_measure_score(model.labels_, target) > v_measure_score(best_model.labels_, target):\n",
    "                    best_model = model\n",
    "    return best_model\n",
    "dampings = np.arange(0.5,1,0.1)\n",
    "max_iters = np.arange(300,1100,100)\n",
    "convergence_iters = np.arange(10,30)\n",
    "best_Affinity_model = search_best_AffinityPropagation(dampings,max_iters,convergence_iters,data,target)"
   ]
  },
  {
   "cell_type": "code",
   "execution_count": 143,
   "metadata": {},
   "outputs": [
    {
     "data": {
      "text/plain": [
       "AffinityPropagation(affinity='euclidean', convergence_iter=10, copy=True,\n",
       "                    damping=0.6, max_iter=300, preference=None, verbose=False)"
      ]
     },
     "execution_count": 143,
     "metadata": {},
     "output_type": "execute_result"
    }
   ],
   "source": [
    "best_Affinity_model"
   ]
  },
  {
   "cell_type": "code",
   "execution_count": 144,
   "metadata": {},
   "outputs": [
    {
     "name": "stdout",
     "output_type": "stream",
     "text": [
      "completeness_score 0.6724394607097515\n",
      "homogeneity_score 0.17999597880234058\n",
      "v_measure_score 0.2839778669574021\n",
      "adjusted_rand_score 0.12515527913067145\n"
     ]
    }
   ],
   "source": [
    "print('completeness_score',completeness_score(best_Affinity_model.labels_, target))\n",
    "print('homogeneity_score',homogeneity_score(best_Affinity_model.labels_, target))\n",
    "print('v_measure_score',v_measure_score(best_Affinity_model.labels_, target))\n",
    "print('adjusted_rand_score',adjusted_rand_score(best_Affinity_model.labels_, target))"
   ]
  },
  {
   "cell_type": "markdown",
   "metadata": {},
   "source": [
    "### Для AffinityPropagation анлогично не удалось подобрать параметры, дающие повышение точности"
   ]
  },
  {
   "cell_type": "code",
   "execution_count": 149,
   "metadata": {},
   "outputs": [],
   "source": [
    "def search_best_MeanShift(bandwidths,X,y):\n",
    "    best_model = MeanShift().fit(X)\n",
    "    for bandwidth in bandwidths:\n",
    "        model = MeanShift(bandwidth = bandwidth).fit(X)\n",
    "        if v_measure_score(model.labels_, target) > v_measure_score(best_model.labels_, target):\n",
    "            best_model = model\n",
    "    return best_model\n",
    "bandwidths = np.arange(1,10,0.1)\n",
    "best_MeanShift_model = search_best_MeanShift(bandwidths,data,target)"
   ]
  },
  {
   "cell_type": "code",
   "execution_count": 150,
   "metadata": {},
   "outputs": [
    {
     "data": {
      "text/plain": [
       "MeanShift(bandwidth=None, bin_seeding=False, cluster_all=True, min_bin_freq=1,\n",
       "          n_jobs=None, seeds=None)"
      ]
     },
     "execution_count": 150,
     "metadata": {},
     "output_type": "execute_result"
    }
   ],
   "source": [
    "best_MeanShift_model"
   ]
  },
  {
   "cell_type": "code",
   "execution_count": 151,
   "metadata": {},
   "outputs": [
    {
     "name": "stdout",
     "output_type": "stream",
     "text": [
      "completeness_score 0.5024830485311966\n",
      "homogeneity_score 0.43379588382762635\n",
      "v_measure_score 0.4656199570716239\n",
      "adjusted_rand_score 0.5528955767952657\n"
     ]
    }
   ],
   "source": [
    "print('completeness_score',completeness_score(best_MeanShift_model.labels_, target))\n",
    "print('homogeneity_score',homogeneity_score(best_MeanShift_model.labels_, target))\n",
    "print('v_measure_score',v_measure_score(best_MeanShift_model.labels_, target))\n",
    "print('adjusted_rand_score',adjusted_rand_score(best_MeanShift_model.labels_, target))"
   ]
  },
  {
   "cell_type": "markdown",
   "metadata": {},
   "source": [
    "### Для MeanShift результаты аналогично изменились не сильно. Результат работы данного метода соспоставим по эффективности с KMeans."
   ]
  },
  {
   "cell_type": "markdown",
   "metadata": {},
   "source": [
    "### Из полученных результатво можно сделать вывод, что задача кластеризаций на данном наборе данных является довлльно сложной и трудно подобрать алгоритм, который бы так искал \"сгущения\" выборки, чтобы они с высокой точностью соотносились с существующими в выборке классами. Существующие зависимости между классами и параметрами объектов слишком сложны, чтобы их можно было однозначно разделить используя метрики между элементами."
   ]
  },
  {
   "cell_type": "code",
   "execution_count": null,
   "metadata": {},
   "outputs": [],
   "source": []
  }
 ],
 "metadata": {
  "kernelspec": {
   "display_name": "Python 3",
   "language": "python",
   "name": "python3"
  },
  "language_info": {
   "codemirror_mode": {
    "name": "ipython",
    "version": 3
   },
   "file_extension": ".py",
   "mimetype": "text/x-python",
   "name": "python",
   "nbconvert_exporter": "python",
   "pygments_lexer": "ipython3",
   "version": "3.7.3"
  }
 },
 "nbformat": 4,
 "nbformat_minor": 2
}

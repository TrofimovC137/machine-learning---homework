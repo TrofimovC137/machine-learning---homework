{
 "cells": [
  {
   "cell_type": "markdown",
   "metadata": {},
   "source": [
    "# Домашняя работа №3\n",
    "## Студент: Трофимов Иван Александрович\n",
    "## группа: М8О-111М-19\n",
    "\n",
    "## Задача №1: Реализовать понижение размерности исходных данных при помощи метода РСА\n",
    "### В качестве исходных данных был выбран датасет, содержащий информацию о графическом изображении букв латинского алфавита. Информация выражена в ряде определенных коэффициентов (16 параметров), отвечающих за наклон, размер и т. д. Задачей классификации является установление по данным числовым характеристикам символ, за который они отвечают. Выборка содержит 20 000 строк с различными вариантами написания символов A-Z с использованием различных шрифтов. Числовые параметры каждого символа содержатся в 16 столбцах исходной таблицы."
   ]
  },
  {
   "cell_type": "code",
   "execution_count": 96,
   "metadata": {},
   "outputs": [],
   "source": [
    "import pandas as pd\n",
    "import numpy as np\n",
    "import seaborn as sns\n",
    "\n",
    "from sklearn.decomposition import PCA\n",
    "from sklearn.model_selection import cross_val_score\n",
    "from sklearn.model_selection import train_test_split\n",
    "from sklearn.tree import DecisionTreeClassifier\n",
    "from sklearn import svm\n",
    "from sklearn.metrics import roc_curve, auc\n",
    "from sklearn.metrics import roc_auc_score\n",
    "\n",
    "import matplotlib.pyplot as plt\n",
    "\n",
    "from time import time"
   ]
  },
  {
   "cell_type": "code",
   "execution_count": 46,
   "metadata": {},
   "outputs": [
    {
     "name": "stdout",
     "output_type": "stream",
     "text": [
      "  lettr  x-box  y-box  width  high  onpix  x-bar  y-bar  x2bar  y2bar  xybar  \\\n",
      "0     T      2      8      3     5      1      8     13      0      6      6   \n",
      "1     I      5     12      3     7      2     10      5      5      4     13   \n",
      "2     D      4     11      6     8      6     10      6      2      6     10   \n",
      "3     N      7     11      6     6      3      5      9      4      6      4   \n",
      "4     G      2      1      3     1      1      8      6      6      6      6   \n",
      "\n",
      "   x2ybr  xy2br  x-ege  xegvy  y-ege  yegvx  \n",
      "0     10      8      0      8      0      8  \n",
      "1      3      9      2      8      4     10  \n",
      "2      3      7      3      7      3      9  \n",
      "3      4     10      6     10      2      8  \n",
      "4      5      9      1      7      5     10  \n"
     ]
    }
   ],
   "source": [
    "'''Attribute Information:\n",
    "\t 1.\tlettr\tcapital letter\t(26 values from A to Z)\n",
    "\t 2.\tx-box\thorizontal position of box\t(integer)\n",
    "\t 3.\ty-box\tvertical position of box\t(integer)\n",
    "\t 4.\twidth\twidth of box\t\t\t(integer)\n",
    "\t 5.\thigh \theight of box\t\t\t(integer)\n",
    "\t 6.\tonpix\ttotal # on pixels\t\t(integer)\n",
    "\t 7.\tx-bar\tmean x of on pixels in box\t(integer)\n",
    "\t 8.\ty-bar\tmean y of on pixels in box\t(integer)\n",
    "\t 9.\tx2bar\tmean x variance\t\t\t(integer)\n",
    "\t10.\ty2bar\tmean y variance\t\t\t(integer)\n",
    "\t11.\txybar\tmean x y correlation\t\t(integer)\n",
    "\t12.\tx2ybr\tmean of x * x * y\t\t(integer)\n",
    "\t13.\txy2br\tmean of x * y * y\t\t(integer)\n",
    "\t14.\tx-ege\tmean edge count left to right\t(integer)\n",
    "\t15.\txegvy\tcorrelation of x-ege with y\t(integer)\n",
    "\t16.\ty-ege\tmean edge count bottom to top\t(integer)\n",
    "\t17.\tyegvx\tcorrelation of y-ege with x\t(integer)'''\n",
    "\n",
    "column_names = ['lettr','x-box','y-box','width','high','onpix','x-bar',\n",
    "                'y-bar','x2bar','y2bar','xybar','x2ybr','xy2br','x-ege','xegvy','y-ege','yegvx']\n",
    "df = pd.read_csv('letter-recognition.data', sep=',', names = column_names)\n",
    "print(df.head())\n",
    "Y = df['lettr']\n",
    "X = df.drop(columns = 'lettr')"
   ]
  },
  {
   "cell_type": "markdown",
   "metadata": {},
   "source": [
    "### таблица корреляции для исходных данных"
   ]
  },
  {
   "cell_type": "code",
   "execution_count": 47,
   "metadata": {},
   "outputs": [
    {
     "data": {
      "text/html": [
       "<div>\n",
       "<style scoped>\n",
       "    .dataframe tbody tr th:only-of-type {\n",
       "        vertical-align: middle;\n",
       "    }\n",
       "\n",
       "    .dataframe tbody tr th {\n",
       "        vertical-align: top;\n",
       "    }\n",
       "\n",
       "    .dataframe thead th {\n",
       "        text-align: right;\n",
       "    }\n",
       "</style>\n",
       "<table border=\"1\" class=\"dataframe\">\n",
       "  <thead>\n",
       "    <tr style=\"text-align: right;\">\n",
       "      <th></th>\n",
       "      <th>x-box</th>\n",
       "      <th>y-box</th>\n",
       "      <th>width</th>\n",
       "      <th>high</th>\n",
       "      <th>onpix</th>\n",
       "      <th>x-bar</th>\n",
       "      <th>y-bar</th>\n",
       "      <th>x2bar</th>\n",
       "      <th>y2bar</th>\n",
       "      <th>xybar</th>\n",
       "      <th>x2ybr</th>\n",
       "      <th>xy2br</th>\n",
       "      <th>x-ege</th>\n",
       "      <th>xegvy</th>\n",
       "      <th>y-ege</th>\n",
       "      <th>yegvx</th>\n",
       "    </tr>\n",
       "  </thead>\n",
       "  <tbody>\n",
       "    <tr>\n",
       "      <th>x-box</th>\n",
       "      <td>1.000000</td>\n",
       "      <td>0.757793</td>\n",
       "      <td>0.851514</td>\n",
       "      <td>0.672764</td>\n",
       "      <td>0.619097</td>\n",
       "      <td>-0.032595</td>\n",
       "      <td>0.045545</td>\n",
       "      <td>0.014306</td>\n",
       "      <td>0.052086</td>\n",
       "      <td>0.148056</td>\n",
       "      <td>0.035464</td>\n",
       "      <td>-0.046333</td>\n",
       "      <td>0.489155</td>\n",
       "      <td>0.098180</td>\n",
       "      <td>0.273504</td>\n",
       "      <td>-0.105147</td>\n",
       "    </tr>\n",
       "    <tr>\n",
       "      <th>y-box</th>\n",
       "      <td>0.757793</td>\n",
       "      <td>1.000000</td>\n",
       "      <td>0.671912</td>\n",
       "      <td>0.823207</td>\n",
       "      <td>0.555067</td>\n",
       "      <td>0.045690</td>\n",
       "      <td>-0.040925</td>\n",
       "      <td>-0.025019</td>\n",
       "      <td>0.096478</td>\n",
       "      <td>0.159954</td>\n",
       "      <td>-0.054648</td>\n",
       "      <td>-0.007568</td>\n",
       "      <td>0.274431</td>\n",
       "      <td>-0.001336</td>\n",
       "      <td>0.230883</td>\n",
       "      <td>-0.042741</td>\n",
       "    </tr>\n",
       "    <tr>\n",
       "      <th>width</th>\n",
       "      <td>0.851514</td>\n",
       "      <td>0.671912</td>\n",
       "      <td>1.000000</td>\n",
       "      <td>0.660215</td>\n",
       "      <td>0.765716</td>\n",
       "      <td>0.061959</td>\n",
       "      <td>0.024832</td>\n",
       "      <td>-0.098611</td>\n",
       "      <td>0.057074</td>\n",
       "      <td>0.115018</td>\n",
       "      <td>0.011694</td>\n",
       "      <td>-0.045009</td>\n",
       "      <td>0.557251</td>\n",
       "      <td>0.045658</td>\n",
       "      <td>0.260285</td>\n",
       "      <td>-0.118273</td>\n",
       "    </tr>\n",
       "    <tr>\n",
       "      <th>high</th>\n",
       "      <td>0.672764</td>\n",
       "      <td>0.823207</td>\n",
       "      <td>0.660215</td>\n",
       "      <td>1.000000</td>\n",
       "      <td>0.644366</td>\n",
       "      <td>0.042844</td>\n",
       "      <td>-0.020072</td>\n",
       "      <td>0.082383</td>\n",
       "      <td>0.059032</td>\n",
       "      <td>0.012458</td>\n",
       "      <td>-0.011991</td>\n",
       "      <td>0.026386</td>\n",
       "      <td>0.265243</td>\n",
       "      <td>0.025359</td>\n",
       "      <td>0.297545</td>\n",
       "      <td>-0.018853</td>\n",
       "    </tr>\n",
       "    <tr>\n",
       "      <th>onpix</th>\n",
       "      <td>0.619097</td>\n",
       "      <td>0.555067</td>\n",
       "      <td>0.765716</td>\n",
       "      <td>0.644366</td>\n",
       "      <td>1.000000</td>\n",
       "      <td>0.139159</td>\n",
       "      <td>-0.028822</td>\n",
       "      <td>-0.011985</td>\n",
       "      <td>-0.065557</td>\n",
       "      <td>-0.069776</td>\n",
       "      <td>-0.072941</td>\n",
       "      <td>-0.038858</td>\n",
       "      <td>0.627507</td>\n",
       "      <td>0.017649</td>\n",
       "      <td>0.492653</td>\n",
       "      <td>-0.062969</td>\n",
       "    </tr>\n",
       "    <tr>\n",
       "      <th>x-bar</th>\n",
       "      <td>-0.032595</td>\n",
       "      <td>0.045690</td>\n",
       "      <td>0.061959</td>\n",
       "      <td>0.042844</td>\n",
       "      <td>0.139159</td>\n",
       "      <td>1.000000</td>\n",
       "      <td>-0.356580</td>\n",
       "      <td>-0.053306</td>\n",
       "      <td>-0.122851</td>\n",
       "      <td>0.085963</td>\n",
       "      <td>-0.341957</td>\n",
       "      <td>-0.032115</td>\n",
       "      <td>0.144325</td>\n",
       "      <td>-0.253339</td>\n",
       "      <td>0.127056</td>\n",
       "      <td>0.248816</td>\n",
       "    </tr>\n",
       "    <tr>\n",
       "      <th>y-bar</th>\n",
       "      <td>0.045545</td>\n",
       "      <td>-0.040925</td>\n",
       "      <td>0.024832</td>\n",
       "      <td>-0.020072</td>\n",
       "      <td>-0.028822</td>\n",
       "      <td>-0.356580</td>\n",
       "      <td>1.000000</td>\n",
       "      <td>-0.118625</td>\n",
       "      <td>-0.049658</td>\n",
       "      <td>0.178318</td>\n",
       "      <td>0.600397</td>\n",
       "      <td>-0.271649</td>\n",
       "      <td>-0.036722</td>\n",
       "      <td>0.555060</td>\n",
       "      <td>-0.078008</td>\n",
       "      <td>-0.207900</td>\n",
       "    </tr>\n",
       "    <tr>\n",
       "      <th>x2bar</th>\n",
       "      <td>0.014306</td>\n",
       "      <td>-0.025019</td>\n",
       "      <td>-0.098611</td>\n",
       "      <td>0.082383</td>\n",
       "      <td>-0.011985</td>\n",
       "      <td>-0.053306</td>\n",
       "      <td>-0.118625</td>\n",
       "      <td>1.000000</td>\n",
       "      <td>-0.188431</td>\n",
       "      <td>-0.317780</td>\n",
       "      <td>0.042545</td>\n",
       "      <td>0.082020</td>\n",
       "      <td>0.142132</td>\n",
       "      <td>-0.084820</td>\n",
       "      <td>0.006546</td>\n",
       "      <td>0.182902</td>\n",
       "    </tr>\n",
       "    <tr>\n",
       "      <th>y2bar</th>\n",
       "      <td>0.052086</td>\n",
       "      <td>0.096478</td>\n",
       "      <td>0.057074</td>\n",
       "      <td>0.059032</td>\n",
       "      <td>-0.065557</td>\n",
       "      <td>-0.122851</td>\n",
       "      <td>-0.049658</td>\n",
       "      <td>-0.188431</td>\n",
       "      <td>1.000000</td>\n",
       "      <td>0.132000</td>\n",
       "      <td>-0.060116</td>\n",
       "      <td>0.119048</td>\n",
       "      <td>-0.384018</td>\n",
       "      <td>-0.052545</td>\n",
       "      <td>0.277540</td>\n",
       "      <td>-0.061335</td>\n",
       "    </tr>\n",
       "    <tr>\n",
       "      <th>xybar</th>\n",
       "      <td>0.148056</td>\n",
       "      <td>0.159954</td>\n",
       "      <td>0.115018</td>\n",
       "      <td>0.012458</td>\n",
       "      <td>-0.069776</td>\n",
       "      <td>0.085963</td>\n",
       "      <td>0.178318</td>\n",
       "      <td>-0.317780</td>\n",
       "      <td>0.132000</td>\n",
       "      <td>1.000000</td>\n",
       "      <td>0.057988</td>\n",
       "      <td>-0.106759</td>\n",
       "      <td>-0.175676</td>\n",
       "      <td>0.029419</td>\n",
       "      <td>-0.087019</td>\n",
       "      <td>-0.114223</td>\n",
       "    </tr>\n",
       "    <tr>\n",
       "      <th>x2ybr</th>\n",
       "      <td>0.035464</td>\n",
       "      <td>-0.054648</td>\n",
       "      <td>0.011694</td>\n",
       "      <td>-0.011991</td>\n",
       "      <td>-0.072941</td>\n",
       "      <td>-0.341957</td>\n",
       "      <td>0.600397</td>\n",
       "      <td>0.042545</td>\n",
       "      <td>-0.060116</td>\n",
       "      <td>0.057988</td>\n",
       "      <td>1.000000</td>\n",
       "      <td>0.063214</td>\n",
       "      <td>0.053566</td>\n",
       "      <td>0.527239</td>\n",
       "      <td>-0.226251</td>\n",
       "      <td>-0.236518</td>\n",
       "    </tr>\n",
       "    <tr>\n",
       "      <th>xy2br</th>\n",
       "      <td>-0.046333</td>\n",
       "      <td>-0.007568</td>\n",
       "      <td>-0.045009</td>\n",
       "      <td>0.026386</td>\n",
       "      <td>-0.038858</td>\n",
       "      <td>-0.032115</td>\n",
       "      <td>-0.271649</td>\n",
       "      <td>0.082020</td>\n",
       "      <td>0.119048</td>\n",
       "      <td>-0.106759</td>\n",
       "      <td>0.063214</td>\n",
       "      <td>1.000000</td>\n",
       "      <td>-0.008753</td>\n",
       "      <td>-0.184927</td>\n",
       "      <td>0.049695</td>\n",
       "      <td>0.245808</td>\n",
       "    </tr>\n",
       "    <tr>\n",
       "      <th>x-ege</th>\n",
       "      <td>0.489155</td>\n",
       "      <td>0.274431</td>\n",
       "      <td>0.557251</td>\n",
       "      <td>0.265243</td>\n",
       "      <td>0.627507</td>\n",
       "      <td>0.144325</td>\n",
       "      <td>-0.036722</td>\n",
       "      <td>0.142132</td>\n",
       "      <td>-0.384018</td>\n",
       "      <td>-0.175676</td>\n",
       "      <td>0.053566</td>\n",
       "      <td>-0.008753</td>\n",
       "      <td>1.000000</td>\n",
       "      <td>0.002849</td>\n",
       "      <td>0.108411</td>\n",
       "      <td>-0.049789</td>\n",
       "    </tr>\n",
       "    <tr>\n",
       "      <th>xegvy</th>\n",
       "      <td>0.098180</td>\n",
       "      <td>-0.001336</td>\n",
       "      <td>0.045658</td>\n",
       "      <td>0.025359</td>\n",
       "      <td>0.017649</td>\n",
       "      <td>-0.253339</td>\n",
       "      <td>0.555060</td>\n",
       "      <td>-0.084820</td>\n",
       "      <td>-0.052545</td>\n",
       "      <td>0.029419</td>\n",
       "      <td>0.527239</td>\n",
       "      <td>-0.184927</td>\n",
       "      <td>0.002849</td>\n",
       "      <td>1.000000</td>\n",
       "      <td>-0.064402</td>\n",
       "      <td>-0.187591</td>\n",
       "    </tr>\n",
       "    <tr>\n",
       "      <th>y-ege</th>\n",
       "      <td>0.273504</td>\n",
       "      <td>0.230883</td>\n",
       "      <td>0.260285</td>\n",
       "      <td>0.297545</td>\n",
       "      <td>0.492653</td>\n",
       "      <td>0.127056</td>\n",
       "      <td>-0.078008</td>\n",
       "      <td>0.006546</td>\n",
       "      <td>0.277540</td>\n",
       "      <td>-0.087019</td>\n",
       "      <td>-0.226251</td>\n",
       "      <td>0.049695</td>\n",
       "      <td>0.108411</td>\n",
       "      <td>-0.064402</td>\n",
       "      <td>1.000000</td>\n",
       "      <td>0.143588</td>\n",
       "    </tr>\n",
       "    <tr>\n",
       "      <th>yegvx</th>\n",
       "      <td>-0.105147</td>\n",
       "      <td>-0.042741</td>\n",
       "      <td>-0.118273</td>\n",
       "      <td>-0.018853</td>\n",
       "      <td>-0.062969</td>\n",
       "      <td>0.248816</td>\n",
       "      <td>-0.207900</td>\n",
       "      <td>0.182902</td>\n",
       "      <td>-0.061335</td>\n",
       "      <td>-0.114223</td>\n",
       "      <td>-0.236518</td>\n",
       "      <td>0.245808</td>\n",
       "      <td>-0.049789</td>\n",
       "      <td>-0.187591</td>\n",
       "      <td>0.143588</td>\n",
       "      <td>1.000000</td>\n",
       "    </tr>\n",
       "  </tbody>\n",
       "</table>\n",
       "</div>"
      ],
      "text/plain": [
       "          x-box     y-box     width      high     onpix     x-bar     y-bar  \\\n",
       "x-box  1.000000  0.757793  0.851514  0.672764  0.619097 -0.032595  0.045545   \n",
       "y-box  0.757793  1.000000  0.671912  0.823207  0.555067  0.045690 -0.040925   \n",
       "width  0.851514  0.671912  1.000000  0.660215  0.765716  0.061959  0.024832   \n",
       "high   0.672764  0.823207  0.660215  1.000000  0.644366  0.042844 -0.020072   \n",
       "onpix  0.619097  0.555067  0.765716  0.644366  1.000000  0.139159 -0.028822   \n",
       "x-bar -0.032595  0.045690  0.061959  0.042844  0.139159  1.000000 -0.356580   \n",
       "y-bar  0.045545 -0.040925  0.024832 -0.020072 -0.028822 -0.356580  1.000000   \n",
       "x2bar  0.014306 -0.025019 -0.098611  0.082383 -0.011985 -0.053306 -0.118625   \n",
       "y2bar  0.052086  0.096478  0.057074  0.059032 -0.065557 -0.122851 -0.049658   \n",
       "xybar  0.148056  0.159954  0.115018  0.012458 -0.069776  0.085963  0.178318   \n",
       "x2ybr  0.035464 -0.054648  0.011694 -0.011991 -0.072941 -0.341957  0.600397   \n",
       "xy2br -0.046333 -0.007568 -0.045009  0.026386 -0.038858 -0.032115 -0.271649   \n",
       "x-ege  0.489155  0.274431  0.557251  0.265243  0.627507  0.144325 -0.036722   \n",
       "xegvy  0.098180 -0.001336  0.045658  0.025359  0.017649 -0.253339  0.555060   \n",
       "y-ege  0.273504  0.230883  0.260285  0.297545  0.492653  0.127056 -0.078008   \n",
       "yegvx -0.105147 -0.042741 -0.118273 -0.018853 -0.062969  0.248816 -0.207900   \n",
       "\n",
       "          x2bar     y2bar     xybar     x2ybr     xy2br     x-ege     xegvy  \\\n",
       "x-box  0.014306  0.052086  0.148056  0.035464 -0.046333  0.489155  0.098180   \n",
       "y-box -0.025019  0.096478  0.159954 -0.054648 -0.007568  0.274431 -0.001336   \n",
       "width -0.098611  0.057074  0.115018  0.011694 -0.045009  0.557251  0.045658   \n",
       "high   0.082383  0.059032  0.012458 -0.011991  0.026386  0.265243  0.025359   \n",
       "onpix -0.011985 -0.065557 -0.069776 -0.072941 -0.038858  0.627507  0.017649   \n",
       "x-bar -0.053306 -0.122851  0.085963 -0.341957 -0.032115  0.144325 -0.253339   \n",
       "y-bar -0.118625 -0.049658  0.178318  0.600397 -0.271649 -0.036722  0.555060   \n",
       "x2bar  1.000000 -0.188431 -0.317780  0.042545  0.082020  0.142132 -0.084820   \n",
       "y2bar -0.188431  1.000000  0.132000 -0.060116  0.119048 -0.384018 -0.052545   \n",
       "xybar -0.317780  0.132000  1.000000  0.057988 -0.106759 -0.175676  0.029419   \n",
       "x2ybr  0.042545 -0.060116  0.057988  1.000000  0.063214  0.053566  0.527239   \n",
       "xy2br  0.082020  0.119048 -0.106759  0.063214  1.000000 -0.008753 -0.184927   \n",
       "x-ege  0.142132 -0.384018 -0.175676  0.053566 -0.008753  1.000000  0.002849   \n",
       "xegvy -0.084820 -0.052545  0.029419  0.527239 -0.184927  0.002849  1.000000   \n",
       "y-ege  0.006546  0.277540 -0.087019 -0.226251  0.049695  0.108411 -0.064402   \n",
       "yegvx  0.182902 -0.061335 -0.114223 -0.236518  0.245808 -0.049789 -0.187591   \n",
       "\n",
       "          y-ege     yegvx  \n",
       "x-box  0.273504 -0.105147  \n",
       "y-box  0.230883 -0.042741  \n",
       "width  0.260285 -0.118273  \n",
       "high   0.297545 -0.018853  \n",
       "onpix  0.492653 -0.062969  \n",
       "x-bar  0.127056  0.248816  \n",
       "y-bar -0.078008 -0.207900  \n",
       "x2bar  0.006546  0.182902  \n",
       "y2bar  0.277540 -0.061335  \n",
       "xybar -0.087019 -0.114223  \n",
       "x2ybr -0.226251 -0.236518  \n",
       "xy2br  0.049695  0.245808  \n",
       "x-ege  0.108411 -0.049789  \n",
       "xegvy -0.064402 -0.187591  \n",
       "y-ege  1.000000  0.143588  \n",
       "yegvx  0.143588  1.000000  "
      ]
     },
     "execution_count": 47,
     "metadata": {},
     "output_type": "execute_result"
    }
   ],
   "source": [
    "X.corr()"
   ]
  },
  {
   "cell_type": "markdown",
   "metadata": {},
   "source": [
    "### HeatMap для исходных данных"
   ]
  },
  {
   "cell_type": "code",
   "execution_count": 48,
   "metadata": {},
   "outputs": [
    {
     "data": {
      "text/plain": [
       "<matplotlib.axes._subplots.AxesSubplot at 0xd9dedd8>"
      ]
     },
     "execution_count": 48,
     "metadata": {},
     "output_type": "execute_result"
    },
    {
     "data": {
      "image/png": "[encoded data removed]",
      "text/plain": [
       "<Figure size 432x288 with 2 Axes>"
      ]
     },
     "metadata": {
      "needs_background": "light"
     },
     "output_type": "display_data"
    }
   ],
   "source": [
    "sns.heatmap(X.corr())"
   ]
  },
  {
   "cell_type": "markdown",
   "metadata": {},
   "source": [
    "### Из этих результатов видно, что в исходных данных существуют довольно сильно скоррелированные величниы, а значит имеет смысл применение методов понижения размерности\n",
    "### Далее, для демонстрация будет несколько раз оценена точность работы алгоритма после понижения размерности, кол-во иоговых столбцов будет изменяться от 16(исходные данные -1) до 1\n",
    "### Для оценки точности будет использоваться процедура кросс-валидации (n=4)"
   ]
  },
  {
   "cell_type": "code",
   "execution_count": null,
   "metadata": {},
   "outputs": [],
   "source": [
    "def PCA_algorithm"
   ]
  },
  {
   "cell_type": "code",
   "execution_count": 68,
   "metadata": {},
   "outputs": [
    {
     "name": "stdout",
     "output_type": "stream",
     "text": [
      "кол-во столбцев: 16 средняя точность: 0.7817944336910867 время работы: 4.394251585006714 сек.\n",
      "кол-во столбцев: 15 средняя точность: 0.7839436959476308 время работы: 2.399137020111084 сек.\n",
      "кол-во столбцев: 14 средняя точность: 0.7872421312014877 время работы: 1.9611122608184814 сек.\n",
      "кол-во столбцев: 13 средняя точность: 0.7878432802702638 время работы: 1.8351049423217773 сек.\n",
      "кол-во столбцев: 12 средняя точность: 0.7872952281129 время работы: 1.8031032085418701 сек.\n",
      "кол-во столбцев: 11 средняя точность: 0.7868411874658512 время работы: 1.6490943431854248 сек.\n",
      "кол-во столбцев: 10 средняя точность: 0.7829944233032942 время работы: 1.5370879173278809 сек.\n",
      "кол-во столбцев: 9 средняя точность: 0.7770958398824102 время работы: 2.4431400299072266 сек.\n",
      "кол-во столбцев: 8 средняя точность: 0.7678942135824629 время работы: 2.0921196937561035 сек.\n",
      "кол-во столбцев: 7 средняя точность: 0.7533859994983513 время работы: 1.4660840034484863 сек.\n",
      "кол-во столбцев: 6 средняя точность: 0.7283936162865375 время работы: 1.450082778930664 сек.\n",
      "кол-во столбцев: 5 средняя точность: 0.650797327813195 время работы: 0.9440538883209229 сек.\n",
      "кол-во столбцев: 4 средняя точность: 0.5685937093463775 время работы: 0.8280472755432129 сек.\n",
      "кол-во столбцев: 3 средняя точность: 0.3873911529673297 время работы: 0.732041597366333 сек.\n",
      "кол-во столбцев: 2 средняя точность: 0.21734198573006427 время работы: 0.6670382022857666 сек.\n",
      "кол-во столбцев: 1 средняя точность: 0.1371501399501766 время работы: 0.6570374965667725 сек.\n"
     ]
    }
   ],
   "source": [
    "mean_accuracy_list = []\n",
    "timers = []\n",
    "for PCA_counter in range(16,0,-1):\n",
    "    start_t = time()\n",
    "    X_reduced = PCA(n_components = PCA_counter).fit_transform(X)\n",
    "    #x_train, x_test, y_train, y_test = train_test_split(X_reduced ,Y, test_size = 0.25, random_state = 1)\n",
    "    mean_accuracy = cross_val_score(estimator=DecisionTreeClassifier(), X=X_reduced, y=Y, cv=4, scoring='accuracy').sum()/4\n",
    "    timer = time() - start_t\n",
    "    mean_accuracy_list.append(mean_accuracy)\n",
    "    timers.append(timer)\n",
    "    print('кол-во столбцев:', PCA_counter, 'средняя точность:', mean_accuracy, 'время работы:',timer,'сек.')"
   ]
  },
  {
   "cell_type": "markdown",
   "metadata": {},
   "source": [
    "### Построим графики зависимостей точности работы алгоритма и времени работы от колличества столбцев после понижения размерности выборки"
   ]
  },
  {
   "cell_type": "code",
   "execution_count": 118,
   "metadata": {},
   "outputs": [
    {
     "data": {
      "image/png": "[encoded data removed]",
      "text/plain": [
       "<Figure size 432x288 with 1 Axes>"
      ]
     },
     "metadata": {
      "needs_background": "light"
     },
     "output_type": "display_data"
    },
    {
     "data": {
      "image/png": "[encoded data removed]",
      "text/plain": [
       "<Figure size 432x288 with 1 Axes>"
      ]
     },
     "metadata": {
      "needs_background": "light"
     },
     "output_type": "display_data"
    }
   ],
   "source": [
    "plt.figure()\n",
    "plt.plot(range(16,0,-1),mean_accuracy_list)\n",
    "plt.xlabel('number of columns')\n",
    "plt.xlim([1, 16])\n",
    "plt.xticks(range(16,0,-1))\n",
    "plt.ylabel('accuracy')\n",
    "plt.title('Accuracy')\n",
    "plt.grid()\n",
    "plt.show()\n",
    "plt.figure()\n",
    "plt.plot(range(16,0,-1),timers)\n",
    "plt.xlabel('number of columns')\n",
    "plt.xlim([1, 16])\n",
    "plt.xticks(range(16,0,-1))\n",
    "plt.ylabel('lead time (sec)')\n",
    "plt.title('Lead time')\n",
    "plt.grid()\n",
    "plt.show()"
   ]
  },
  {
   "cell_type": "markdown",
   "metadata": {},
   "source": [
    "### Из данных графиков видно, что уменьшение количества столбцев в данных сильно влияет на время работы алгоритма, в то-же время, до некоторого определенного значения, точность остается на приемлимом относительно исходных данных уровне (т.к. существуют сильно зависимые величины). Из чего можно сделать вывод, что для данной выборки оправдано применение процедуру понижения размерности."
   ]
  },
  {
   "cell_type": "markdown",
   "metadata": {},
   "source": [
    "## Задание №2. Бинарная классификация, ROC - кривая"
   ]
  },
  {
   "cell_type": "markdown",
   "metadata": {},
   "source": [
    "### В качестве исходных данных взята статистика по пассажирам корабля \"Титаник\". классификация по параметру \"спасся / погиб\""
   ]
  },
  {
   "cell_type": "code",
   "execution_count": 94,
   "metadata": {},
   "outputs": [
    {
     "name": "stdout",
     "output_type": "stream",
     "text": [
      "   Passengerid   Age     Fare  Sex  sibsp  Parch  Pclass  Embarked  2urvived\n",
      "0            1  22.0   7.2500    0      1      0       3       2.0         0\n",
      "1            2  38.0  71.2833    1      1      0       1       0.0         1\n",
      "2            3  26.0   7.9250    1      0      0       3       2.0         1\n",
      "3            4  35.0  53.1000    1      1      0       1       2.0         1\n",
      "4            5  35.0   8.0500    0      0      0       3       2.0         0\n"
     ]
    }
   ],
   "source": [
    "data = pd.read_csv('train_and_test2.csv')\n",
    "data=data.drop(columns=['zero'])\n",
    "for i in range(1,19):\n",
    "    data = data.drop(columns=['zero.'+str(i)])\n",
    "data = data[~data.isin([np.nan, np.inf, -np.inf]).any(1)]\n",
    "print(data.head())\n",
    "X = np.array(data.drop(columns=['Passengerid','2urvived']))\n",
    "y = np.array(data['2urvived'] == 0)\n",
    "x_train, x_test, y_train, y_test = train_test_split(X ,y, test_size = 0.25, random_state = 1)"
   ]
  },
  {
   "cell_type": "code",
   "execution_count": 98,
   "metadata": {},
   "outputs": [
    {
     "name": "stdout",
     "output_type": "stream",
     "text": [
      "0.7445219123505976\n"
     ]
    }
   ],
   "source": [
    "clf = svm.SVC(gamma = 'auto')\n",
    "y_sc = clf.fit(x_train, y_train).decision_function(x_test)\n",
    "fpr, tpr, thresholds = roc_curve(y_test, y_sc)\n",
    "roc_auc = auc(fpr, tpr)\n",
    "Auc = roc_auc_score(y_test, y_sc)\n",
    "print(Auc)"
   ]
  },
  {
   "cell_type": "code",
   "execution_count": 122,
   "metadata": {},
   "outputs": [
    {
     "data": {
      "image/png": "[encoded data removed]",
      "text/plain": [
       "<Figure size 432x288 with 1 Axes>"
      ]
     },
     "metadata": {
      "needs_background": "light"
     },
     "output_type": "display_data"
    }
   ],
   "source": [
    "plt.plot(fpr, tpr, color='red', label='ROC curve ; auc: %0.5f' % Auc)\n",
    "plt.plot([0, 1], [0, 1], color='blue')\n",
    "plt.xlim([0, 1])\n",
    "plt.ylim([0, 1])\n",
    "plt.title('ROC-curve and auc')\n",
    "plt.legend(loc=\"lower right\")\n",
    "plt.show()"
   ]
  },
  {
   "cell_type": "code",
   "execution_count": null,
   "metadata": {},
   "outputs": [],
   "source": []
  }
 ],
 "metadata": {
  "kernelspec": {
   "display_name": "Python 3",
   "language": "python",
   "name": "python3"
  },
  "language_info": {
   "codemirror_mode": {
    "name": "ipython",
    "version": 3
   },
   "file_extension": ".py",
   "mimetype": "text/x-python",
   "name": "python",
   "nbconvert_exporter": "python",
   "pygments_lexer": "ipython3",
   "version": "3.7.3"
  }
 },
 "nbformat": 4,
 "nbformat_minor": 2
}
